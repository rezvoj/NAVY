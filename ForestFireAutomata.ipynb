{
 "cells": [
  {
   "cell_type": "code",
   "execution_count": null,
   "id": "5827abef",
   "metadata": {},
   "outputs": [],
   "source": [
    "import random, os\n",
    "import numpy as np\n",
    "import matplotlib\n",
    "import matplotlib.pyplot as plt\n",
    "import imageio.v3 as imageio\n",
    "from IPython.display import clear_output\n",
    "from render.CollectFrames import collect_saved_frames\n",
    "matplotlib.use('Agg')\n",
    "random.seed(42)"
   ]
  },
  {
   "cell_type": "markdown",
   "id": "922f9625",
   "metadata": {},
   "source": [
    "#### Function to generate forrest grid with specified density"
   ]
  },
  {
   "cell_type": "code",
   "execution_count": 12,
   "id": "8c4e5f0b",
   "metadata": {},
   "outputs": [],
   "source": [
    "def generate_forrest(height: int, width: int, density: float, burn_capacity: int):\n",
    "    forrest_map = np.zeros((height, width))\n",
    "    for y in range(height):\n",
    "        for x in range(width):\n",
    "            if random.uniform(0, 1) <= density:\n",
    "                forrest_map[y][x] = burn_capacity\n",
    "    return forrest_map"
   ]
  },
  {
   "cell_type": "markdown",
   "id": "c9a5a944",
   "metadata": {},
   "source": [
    "#### Function to execute the cellular automata for given number of iterations"
   ]
  },
  {
   "cell_type": "code",
   "execution_count": 13,
   "id": "22d6d6ad",
   "metadata": {},
   "outputs": [],
   "source": [
    "def iterate_forrest_fire(\n",
    "        forrest_map: np.ndarray,\n",
    "        max_iter: int,\n",
    "        burn_capacity: int,\n",
    "        regrow_chance: float,\n",
    "        selfign_chance: float):\n",
    "    height, width = forrest_map.shape\n",
    "    current_map = forrest_map.copy()\n",
    "    yield current_map, 0\n",
    "    for iteration in range(1, max_iter + 1):\n",
    "        next_map = current_map.copy()\n",
    "        for y in range(height):\n",
    "            for x in range(width):\n",
    "                value = current_map[y][x]\n",
    "                # Burned tree or dirt\n",
    "                if value == 0:\n",
    "                    # Regrow to full tree with specified chance\n",
    "                    if random.uniform(0, 1) < regrow_chance:\n",
    "                        next_map[y][x] = burn_capacity\n",
    "                # Healthy tree\n",
    "                elif value == burn_capacity:\n",
    "                    # Neighbor burn capacity values\n",
    "                    top = lambda: current_map[y - 1][x]\n",
    "                    bot = lambda: current_map[y + 1][x]\n",
    "                    left = lambda: current_map[y][x - 1]\n",
    "                    right = lambda: current_map[y][x + 1]\n",
    "                    # Whether neighbors are currently burning\n",
    "                    topb = y > 0 and top() > 0 and top() < burn_capacity\n",
    "                    botb = y + 1 < height and bot() > 0 and bot() < burn_capacity\n",
    "                    leftb = x > 0 and left() > 0 and left() < burn_capacity\n",
    "                    rightb = x + 1 < width and right() > 0 and right() < burn_capacity\n",
    "                    # If any of neighbors is burning or with specified chance start burning\n",
    "                    if (True in [topb, botb, leftb, rightb]) or random.uniform(0, 1) < selfign_chance:\n",
    "                        next_map[y][x] = value - 1\n",
    "                # Currently burning tree\n",
    "                elif value < burn_capacity and value != 0:\n",
    "                    # Decrease burn capacity for tree\n",
    "                    next_map[y][x] = value - 1\n",
    "        current_map = next_map\n",
    "        yield current_map, iteration"
   ]
  },
  {
   "cell_type": "markdown",
   "id": "c0d6adfb",
   "metadata": {},
   "source": [
    "#### Generate forrest grid for the cellular automata"
   ]
  },
  {
   "cell_type": "code",
   "execution_count": 14,
   "id": "9cac79ef",
   "metadata": {},
   "outputs": [],
   "source": [
    "burn_capacity = 20\n",
    "forrest_map = generate_forrest(125, 125, 0.5, burn_capacity)"
   ]
  },
  {
   "cell_type": "markdown",
   "id": "3d86c5a5",
   "metadata": {},
   "source": [
    "#### Function to render cellular automata iteration"
   ]
  },
  {
   "cell_type": "code",
   "execution_count": 15,
   "id": "f654206f",
   "metadata": {},
   "outputs": [],
   "source": [
    "def render_forrest_iteration(\n",
    "        forrest_map: np.ndarray, \n",
    "        iteration: int, \n",
    "        burn_capacity: int,\n",
    "        scale = 4,\n",
    "        fontsize = 14,\n",
    "        title_fraction = 0.1,\n",
    "        dpi = 100):\n",
    "    height, width = forrest_map.shape\n",
    "    rgb_map = np.zeros((height, width, 3), dtype=float)\n",
    "    live_tree_mask = (forrest_map == burn_capacity)\n",
    "    burning_mask = (forrest_map > 0) & (forrest_map < burn_capacity)\n",
    "    rgb_map[live_tree_mask] = [0, 1, 0]\n",
    "    if np.any(burning_mask):\n",
    "        burning_values = forrest_map[burning_mask].astype(float)\n",
    "        red_intensity = burning_values / burn_capacity\n",
    "        rgb_map[burning_mask] = np.column_stack((\n",
    "            red_intensity, \n",
    "            np.zeros_like(red_intensity), \n",
    "            np.zeros_like(red_intensity)\n",
    "        ))\n",
    "    map_pixel_width = int(width * scale)\n",
    "    map_pixel_height = int(height * scale)\n",
    "    title_fraction = max(0.01, min(0.9, title_fraction))\n",
    "    total_pixel_height = int(map_pixel_height / (1.0 - title_fraction))\n",
    "    total_pixel_width = map_pixel_width\n",
    "    fig = plt.figure(figsize=(total_pixel_width / dpi, total_pixel_height / dpi), dpi=dpi)\n",
    "    axes_bottom = 0\n",
    "    axes_height = 1.0 - title_fraction\n",
    "    ax = fig.add_axes([0, axes_bottom, 1, axes_height])\n",
    "    title_string = f\"Forrest fire cellular automata iteration: {iteration}\"\n",
    "    title_y_position = axes_bottom + axes_height + (title_fraction / 2.0)\n",
    "    fig.text(0.5, title_y_position, title_string, ha='center', va='center', fontsize=fontsize)\n",
    "    ax.imshow(rgb_map, interpolation='nearest', aspect='auto')\n",
    "    ax.axis('off')\n",
    "    fig.canvas.draw()\n",
    "    frame = np.array(fig.canvas.buffer_rgba())[:, :, :3]\n",
    "    plt.close(fig)\n",
    "    return frame"
   ]
  },
  {
   "cell_type": "markdown",
   "id": "d58e5625",
   "metadata": {},
   "source": [
    "#### Iterate the forrest fire cellular automata and collect frames"
   ]
  },
  {
   "cell_type": "code",
   "execution_count": null,
   "id": "a85909c0",
   "metadata": {},
   "outputs": [],
   "source": [
    "folder_path = \"gifs/fire/\"\n",
    "os.makedirs(folder_path, exist_ok=True)"
   ]
  },
  {
   "cell_type": "code",
   "execution_count": 18,
   "id": "476074de",
   "metadata": {},
   "outputs": [],
   "source": [
    "for np_frame, iteration in iterate_forrest_fire(forrest_map, 10000, burn_capacity, 0.005, 0.001):\n",
    "    print(f\"FF iteration: {iteration}\")\n",
    "    frame = render_forrest_iteration(np_frame, iteration, burn_capacity)\n",
    "    imageio.imwrite(os.path.join(folder_path, f\"MazeQlearning{iteration:08d}.png\"), frame)\n",
    "clear_output()"
   ]
  },
  {
   "cell_type": "code",
   "execution_count": 19,
   "id": "9df94e6a",
   "metadata": {},
   "outputs": [],
   "source": [
    "gif_filename = \"ForestFireAutomata.gif\"\n",
    "collect_saved_frames(folder_path, gif_filename, 15)"
   ]
  },
  {
   "cell_type": "markdown",
   "id": "f8ccb873",
   "metadata": {},
   "source": [
    "#### Visualize the forrsest fire cellular automata over time"
   ]
  },
  {
   "cell_type": "markdown",
   "id": "43331516",
   "metadata": {},
   "source": [
    "![Forest Fire Automata](gifs/fire/ForestFireAutomata.gif)"
   ]
  }
 ],
 "metadata": {
  "kernelspec": {
   "display_name": ".pyenv",
   "language": "python",
   "name": "python3"
  },
  "language_info": {
   "codemirror_mode": {
    "name": "ipython",
    "version": 3
   },
   "file_extension": ".py",
   "mimetype": "text/x-python",
   "name": "python",
   "nbconvert_exporter": "python",
   "pygments_lexer": "ipython3",
   "version": "3.13.2"
  }
 },
 "nbformat": 4,
 "nbformat_minor": 5
}
