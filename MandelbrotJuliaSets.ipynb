{
 "cells": [
  {
   "cell_type": "code",
   "execution_count": null,
   "id": "545f3038",
   "metadata": {},
   "outputs": [],
   "source": [
    "import os\n",
    "import numpy as np\n",
    "import matplotlib\n",
    "import matplotlib.pyplot as plt\n",
    "import imageio.v3 as imageio\n",
    "from dataclasses import dataclass\n",
    "from IPython.display import clear_output\n",
    "from render.CollectFrames import collect_saved_frames\n",
    "matplotlib.use('Agg')"
   ]
  },
  {
   "cell_type": "markdown",
   "id": "a16bc902",
   "metadata": {},
   "source": [
    "#### Functions to calculate image for the Mandelbrot and Julia sets"
   ]
  },
  {
   "cell_type": "code",
   "execution_count": null,
   "id": "c28b7677",
   "metadata": {},
   "outputs": [],
   "source": [
    "class ComplexSetData:\n",
    "    def __init__(self, width: int, height: int):\n",
    "        self.width = width\n",
    "        self.height = height\n",
    "        self.c_complex = None\n",
    "        self.z_complex = None\n",
    "\n",
    "    def mandelbrot_init(self, min_coords: tuple, max_coords: tuple):\n",
    "        # Initialize the complex constants c from the viewport\n",
    "        real_axis = np.linspace(min_coords[0], max_coords[0], self.width)\n",
    "        imag_axis = np.linspace(max_coords[1], min_coords[1], self.height)\n",
    "        c_real, c_imag = np.meshgrid(real_axis, imag_axis)\n",
    "        self.c_complex = c_real + 1j * c_imag\n",
    "        # Initialize the complex variables z to zeroes\n",
    "        self.z_complex = np.zeros((self.height, self.width), dtype=np.complex128)\n",
    "        return self\n",
    "\n",
    "    def mandelbrot_update(self, active: np.ndarray):\n",
    "        # Apply Mandelbrot iteration zᵢ₊₁ = zᵢ² + c\n",
    "        self.z_complex[active] = self.z_complex[active] ** 2 + self.c_complex[active]\n",
    "\n",
    "    def julia_init(self, min_coords: tuple, max_coords: tuple):\n",
    "        # Initialize the complex variables z from the viewport\n",
    "        real_axis = np.linspace(min_coords[0], max_coords[0], self.width)\n",
    "        imag_axis = np.linspace(max_coords[1], min_coords[1], self.height)\n",
    "        z_real, z_imag = np.meshgrid(real_axis, imag_axis)\n",
    "        self.z_complex = z_real + 1j * z_imag\n",
    "        return self\n",
    "\n",
    "    def julia_update(self, active: np.ndarray, c: complex):\n",
    "        # Apply the Julia iteration zᵢ₊₁ = zᵢ² + c \n",
    "        self.z_complex[active] = self.z_complex[active] ** 2 + c"
   ]
  },
  {
   "cell_type": "code",
   "execution_count": 127,
   "id": "169b0cd0",
   "metadata": {},
   "outputs": [],
   "source": [
    "def complex_set(set_data: ComplexSetData, set_type: str, num_iter: int, c: complex = None):\n",
    "    # Initialize the output image and set of active pixels\n",
    "    image = np.full((set_data.height, set_data.width), num_iter, dtype=int)\n",
    "    active = np.full((set_data.height, set_data.width), True)\n",
    "    for iteration in range(num_iter):\n",
    "        # Update the complex z based on set type\n",
    "        if set_type.lower() == \"mandelbrot\":\n",
    "            set_data.mandelbrot_update(active)\n",
    "        else:\n",
    "            set_data.julia_update(active, c)\n",
    "        # Check for points that escaped (|z| > 2)\n",
    "        escaped_mask = np.absolute(set_data.z_complex) > 2.0\n",
    "        # Record the iteration number for escaped points\n",
    "        image[active & escaped_mask] = iteration\n",
    "        active &= ~escaped_mask\n",
    "        # Exit early if all magnitudes have escaped\n",
    "        if not active.any():\n",
    "            break\n",
    "    return image"
   ]
  },
  {
   "cell_type": "markdown",
   "id": "a15a67ae",
   "metadata": {},
   "source": [
    "#### Generator to calculate zooming for the image"
   ]
  },
  {
   "cell_type": "code",
   "execution_count": 128,
   "id": "ebe32d10",
   "metadata": {},
   "outputs": [],
   "source": [
    "@dataclass\n",
    "class ZoomData:\n",
    "    point: tuple[float, float]\n",
    "    num_iter: int\n",
    "    zoom_factor: float\n",
    "    iter_kfactor: float\n",
    "    initial_min_coords: tuple[float, float]\n",
    "    initial_max_coords: tuple[float, float]"
   ]
  },
  {
   "cell_type": "code",
   "execution_count": 129,
   "id": "6324396f",
   "metadata": {},
   "outputs": [],
   "source": [
    "def zoom_complex_set(\n",
    "        set_data: ComplexSetData,\n",
    "        set_type: str,\n",
    "        zoom: ZoomData,\n",
    "        set_num_iter: int,\n",
    "        c: complex = None):\n",
    "    target_real, target_imag = zoom.point\n",
    "    min_coords = zoom.initial_min_coords\n",
    "    max_coords = zoom.initial_max_coords\n",
    "    for _ in range(zoom.num_iter):\n",
    "        # Calculate the current width of the view W_curr = max_real - min_real\n",
    "        current_width_coord = max_coords[0] - min_coords[0]\n",
    "        # Dynamically increase iterations based on zoom level I_calc = I_base + k ⋅ |log(W_curr)|\n",
    "        current_iter = set_num_iter\n",
    "        if current_width_coord > 1e-16:\n",
    "            calculated_iter = set_num_iter + zoom.iter_kfactor * abs(np.log(current_width_coord))\n",
    "            current_iter = max(set_num_iter, int(calculated_iter))\n",
    "        # Initialize the complex set grid data based on set type\n",
    "        if set_type.lower() == \"mandelbrot\":\n",
    "            set_data.mandelbrot_init(min_coords, max_coords)\n",
    "        else:\n",
    "            set_data.julia_init(min_coords, max_coords)\n",
    "        # Generate the fractal image for the current view\n",
    "        image = complex_set(set_data, set_type, current_iter, c)\n",
    "        yield image, min_coords, max_coords\n",
    "        # Calculate the dimensions for the next zoom level\n",
    "        next_width_coord = current_width_coord / zoom.zoom_factor\n",
    "        next_height_coord = (max_coords[1] - min_coords[1]) / zoom.zoom_factor\n",
    "        # Calculate the coordinates for the next zoom iteration, centered around the target point\n",
    "        min_coords = (target_real - next_width_coord / 2, target_imag - next_height_coord / 2)\n",
    "        max_coords = (target_real + next_width_coord / 2, target_imag + next_height_coord / 2)"
   ]
  },
  {
   "cell_type": "markdown",
   "id": "854cc80c",
   "metadata": {},
   "source": [
    "#### Function to adjust generalized zooming coordinates for aspect ratio"
   ]
  },
  {
   "cell_type": "code",
   "execution_count": 130,
   "id": "39f07511",
   "metadata": {},
   "outputs": [],
   "source": [
    "def adjust_coords_for_aspect(width: int, height: int, zoom_data: ZoomData):\n",
    "    pixel_aspect_ratio = width / height\n",
    "    initial_min_real, initial_min_imag = zoom_data.initial_min_coords\n",
    "    initial_max_real, initial_max_imag = zoom_data.initial_max_coords\n",
    "    # Calculate the current width and height of the view in the complex plane\n",
    "    coord_width = initial_max_real - initial_min_real\n",
    "    coord_height = initial_max_imag - initial_min_imag\n",
    "    # Calculate the aspect ratio of the current complex coordinate window\n",
    "    coord_aspect_ratio = coord_width / coord_height if abs(coord_height) > 1e-9 else np.inf\n",
    "    # If the coordinate aspect differs from the pixel aspect adjustment is needed\n",
    "    if abs(coord_aspect_ratio - pixel_aspect_ratio) > 1e-6:\n",
    "        # Calculate the required height in the complex plane\n",
    "        coord_height_needed = coord_width / pixel_aspect_ratio\n",
    "        # Calculate of the current view for imaginary aspect\n",
    "        center_imag = (initial_max_imag + initial_min_imag) / 2\n",
    "        # Calculate the new center adjusted min and max imaginary coordinates\n",
    "        new_min_imag = center_imag - coord_height_needed / 2\n",
    "        new_max_imag = center_imag + coord_height_needed / 2\n",
    "        # Update coordinates with the new imaginary min and max\n",
    "        zoom_data.initial_min_coords = (initial_min_real, new_min_imag)\n",
    "        zoom_data.initial_max_coords = (initial_max_real, new_max_imag)\n",
    "    return zoom_data"
   ]
  },
  {
   "cell_type": "markdown",
   "id": "6fc86b1e",
   "metadata": {},
   "source": [
    "#### Function to visualize the zoomed frames"
   ]
  },
  {
   "cell_type": "code",
   "execution_count": 131,
   "id": "f3fc6a47",
   "metadata": {},
   "outputs": [],
   "source": [
    "def create_fractal_frame(\n",
    "        image: np.ndarray,\n",
    "        min_coords: tuple,\n",
    "        max_coords: tuple,\n",
    "        initial_iter: int,\n",
    "        kfactor: float,\n",
    "        dpi: int):\n",
    "    current_width_coord = max_coords[0] - min_coords[0]\n",
    "    current_iter_for_frame = initial_iter\n",
    "    if current_width_coord > 1e-16:\n",
    "        calculated_iter = initial_iter + kfactor * abs(np.log(current_width_coord))\n",
    "        current_iter_for_frame = max(initial_iter, int(calculated_iter))\n",
    "    img_height, img_width = image.shape[:2]\n",
    "    fig_width_inches = img_width / dpi\n",
    "    fig_height_inches = img_height / dpi\n",
    "    frame_fig, frame_ax = plt.subplots(figsize=(fig_width_inches, fig_height_inches), dpi=dpi)\n",
    "    extent = [min_coords[0], max_coords[0], min_coords[1], max_coords[1]]\n",
    "    frame_ax.imshow(image, cmap='plasma', extent=extent, vmin=0, vmax=current_iter_for_frame)\n",
    "    frame_ax.axis('off')\n",
    "    frame_fig.tight_layout(pad=0)\n",
    "    frame_fig.canvas.draw()\n",
    "    frame_image_buf = frame_fig.canvas.buffer_rgba()\n",
    "    buf_width, buf_height = frame_fig.canvas.get_width_height()\n",
    "    frame_image = np.frombuffer(frame_image_buf, dtype=np.uint8)\n",
    "    frame_image = frame_image.reshape(buf_height, buf_width, 4)\n",
    "    plt.close(frame_fig)\n",
    "    return frame_image"
   ]
  },
  {
   "cell_type": "markdown",
   "id": "b15fcd35",
   "metadata": {},
   "source": [
    "#### Calculate the Mandelbrot set and collect frames"
   ]
  },
  {
   "cell_type": "code",
   "execution_count": 133,
   "id": "9016c0aa",
   "metadata": {},
   "outputs": [],
   "source": [
    "width = 500\n",
    "height = 500\n",
    "initial_iter = 150\n",
    "fractal_data = ComplexSetData(width=width, height=height)\n",
    "zoom_data = adjust_coords_for_aspect(width, height, ZoomData(\n",
    "    point = (-0.743643886906, 0.131825904000002),\n",
    "    num_iter = 600,\n",
    "    zoom_factor = 1.05,\n",
    "    iter_kfactor = 50.0,\n",
    "    initial_min_coords = (-2.0, -1.5),\n",
    "    initial_max_coords = (1.0, 1.5)\n",
    "))"
   ]
  },
  {
   "cell_type": "code",
   "execution_count": null,
   "id": "1ed9e1dc",
   "metadata": {},
   "outputs": [],
   "source": [
    "mandelbrot_folder_path = \"gifs/mandelbrot/\"\n",
    "os.makedirs(mandelbrot_folder_path, exist_ok=True)"
   ]
  },
  {
   "cell_type": "code",
   "execution_count": 135,
   "id": "a53ab4b2",
   "metadata": {},
   "outputs": [],
   "source": [
    "for idx, (image, curr_min, curr_max) in enumerate(zoom_complex_set(fractal_data, \"mandelbrot\", zoom_data, initial_iter)):\n",
    "    print(f\"Mandelbrot set frame: {idx}\")\n",
    "    frame = create_fractal_frame(image, curr_min, curr_max, initial_iter, zoom_data.iter_kfactor, 90)\n",
    "    imageio.imwrite(os.path.join(mandelbrot_folder_path, f\"MandelbrotSet{idx:08d}.png\"), frame)\n",
    "clear_output()"
   ]
  },
  {
   "cell_type": "code",
   "execution_count": 136,
   "id": "dc765a55",
   "metadata": {},
   "outputs": [],
   "source": [
    "mandelbrot_gif_filename = \"MandelbrotSet.gif\"\n",
    "collect_saved_frames(mandelbrot_folder_path, mandelbrot_gif_filename)"
   ]
  },
  {
   "cell_type": "markdown",
   "id": "ac243420",
   "metadata": {},
   "source": [
    "#### Visualize the Mandelbrot set"
   ]
  },
  {
   "cell_type": "markdown",
   "id": "7615f17c",
   "metadata": {},
   "source": [
    "![Mandelbrot Set](gifs/mandelbrot/MandelbrotSet.gif)"
   ]
  },
  {
   "cell_type": "markdown",
   "id": "49a6107a",
   "metadata": {},
   "source": [
    "#### Visualize the Julia set"
   ]
  },
  {
   "cell_type": "code",
   "execution_count": 138,
   "id": "bb1491ba",
   "metadata": {},
   "outputs": [],
   "source": [
    "width = 500\n",
    "height = 500\n",
    "initial_iter = 150\n",
    "julia_c = -0.8 + 0.156j\n",
    "fractal_data = ComplexSetData(width=width, height=height)\n",
    "zoom_data = adjust_coords_for_aspect(width, height, ZoomData(\n",
    "    point = (0.29, 0.210),\n",
    "    num_iter = 600,\n",
    "    zoom_factor = 1.05,\n",
    "    iter_kfactor = 50.0,\n",
    "    initial_min_coords = (-1.5, -1.5),\n",
    "    initial_max_coords = (1.5, 1.5)\n",
    "))"
   ]
  },
  {
   "cell_type": "code",
   "execution_count": null,
   "id": "b075a2a2",
   "metadata": {},
   "outputs": [],
   "source": [
    "julia_folder_path = \"gifs/julia/\"\n",
    "os.makedirs(julia_folder_path, exist_ok=True)"
   ]
  },
  {
   "cell_type": "code",
   "execution_count": 140,
   "id": "089ac019",
   "metadata": {},
   "outputs": [],
   "source": [
    "for idx, (image, curr_min, curr_max) in enumerate(zoom_complex_set(fractal_data, \"julia\", zoom_data, initial_iter, julia_c)):\n",
    "    print(f\"Julia set frame: {idx}\")\n",
    "    frame = create_fractal_frame(image, curr_min, curr_max, initial_iter, zoom_data.iter_kfactor, 90)\n",
    "    imageio.imwrite(os.path.join(julia_folder_path, f\"JuliaSet{idx:08d}.png\"), frame)\n",
    "clear_output()"
   ]
  },
  {
   "cell_type": "code",
   "execution_count": 141,
   "id": "be9dc8ac",
   "metadata": {},
   "outputs": [],
   "source": [
    "julia_gif_filename = \"JuliaSet.gif\"\n",
    "collect_saved_frames(julia_folder_path, julia_gif_filename)"
   ]
  },
  {
   "cell_type": "markdown",
   "id": "ac54203b",
   "metadata": {},
   "source": [
    "#### Visualize the Julia set"
   ]
  },
  {
   "cell_type": "markdown",
   "id": "2c316ef0",
   "metadata": {},
   "source": [
    "![Julia Set](gifs/julia/JuliaSet.gif)"
   ]
  }
 ],
 "metadata": {
  "kernelspec": {
   "display_name": ".pyenv",
   "language": "python",
   "name": "python3"
  },
  "language_info": {
   "codemirror_mode": {
    "name": "ipython",
    "version": 3
   },
   "file_extension": ".py",
   "mimetype": "text/x-python",
   "name": "python",
   "nbconvert_exporter": "python",
   "pygments_lexer": "ipython3",
   "version": "3.13.2"
  }
 },
 "nbformat": 4,
 "nbformat_minor": 5
}
