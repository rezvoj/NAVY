{
 "cells": [
  {
   "cell_type": "code",
   "execution_count": null,
   "id": "0e7f4469",
   "metadata": {},
   "outputs": [],
   "source": [
    "import os\n",
    "import numpy as np\n",
    "import matplotlib\n",
    "import matplotlib.pyplot as plt\n",
    "import imageio.v3 as imageio\n",
    "from IPython.display import clear_output\n",
    "from render.CollectFrames import collect_saved_frames\n",
    "matplotlib.use('Agg')"
   ]
  },
  {
   "cell_type": "markdown",
   "id": "65471f10",
   "metadata": {},
   "source": [
    "#### Function to calculate derivatives for RK4 algorithm"
   ]
  },
  {
   "cell_type": "code",
   "execution_count": 23,
   "id": "b81c7c02",
   "metadata": {},
   "outputs": [],
   "source": [
    "def calculate_derivatives(\n",
    "        Y_vec: np.ndarray,\n",
    "        masses: np.ndarray,\n",
    "        lengths: np.ndarray,\n",
    "        gravity: float):\n",
    "    num_pendulums = len(masses)\n",
    "    angles = Y_vec[0 : num_pendulums]\n",
    "    angular_vels = Y_vec[num_pendulums : 2 * num_pendulums]\n",
    "    # Derivative of angle is the angular velocity: dθᵢ/dt = ωᵢ\n",
    "    d_angles_dt = angular_vels.copy()\n",
    "    # The NxN inertia matrix in generalized coordinates\n",
    "    inertia_matrix = np.zeros((num_pendulums, num_pendulums), dtype=float)\n",
    "    for i in range(num_pendulums):\n",
    "        for j in range(i, num_pendulums):\n",
    "            # Mass bellow lower pendulum Σ[p=max(i,j) to N-1] mₚ\n",
    "            mass_sum = np.sum(masses[max(i, j):])\n",
    "            # cos(θᵢ - θⱼ) between the two pendulums\n",
    "            cos_term = np.cos(angles[i] - angles[j])\n",
    "            # Inertia value Mᵢⱼ = lᵢ lⱼ cos(θᵢ - θⱼ) Σ[p=max(i,j) to N-1] mₚ\n",
    "            inertia_value = lengths[i] * lengths[j] * cos_term * mass_sum\n",
    "            inertia_matrix[i, j] = inertia_value\n",
    "            inertia_matrix[j, i] = inertia_value\n",
    "    # The Nx1 vector of generalized forces (gravity + velocity effects)\n",
    "    R_vec = np.zeros(num_pendulums)\n",
    "    for k in range(num_pendulums):\n",
    "        # Sum Σⱼ(...) velocity-dependent terms\n",
    "        sum_vel_terms = 0.0\n",
    "        for j in range(num_pendulums):\n",
    "            # Mass bellow lower pendulum Σ[p=max(k,j) to N-1] mₚ\n",
    "            mass_sum = np.sum(masses[max(k, j):])\n",
    "            # sin(θₖ - θⱼ) between the two pendulums\n",
    "            sin_term = np.sin(angles[k] - angles[j])\n",
    "            # Full term: -lₖ lⱼ sin(θₖ - θⱼ) ωⱼ² Σ[p=max(k,j) to N-1] mₚ\n",
    "            sum_vel_terms += -lengths[k] * lengths[j] * sin_term * (angular_vels[j]**2) * mass_sum\n",
    "        # Mass bellow the current pendulum Σ[p=k to N-1] mₚ\n",
    "        mass_sum = np.sum(masses[k:])\n",
    "        # sin(θₖ) of the current pendulum's angle\n",
    "        sin_term = np.sin(angles[k])\n",
    "        # Gravitational torque Gₖ = -g lₖ sin(θₖ) Σ[p=k to N-1] mₚ\n",
    "        grav_torque = -gravity * lengths[k] * sin_term * mass_sum\n",
    "        # Combine terms Rₖ = Σⱼ(...) + Gₖ\n",
    "        R_vec[k] = sum_vel_terms + grav_torque\n",
    "    # Solves the linear system M * angular accelerations = R for angular accelerations\n",
    "    angular_accels = np.linalg.solve(inertia_matrix, R_vec)\n",
    "    return np.concatenate((d_angles_dt, angular_accels))"
   ]
  },
  {
   "cell_type": "markdown",
   "id": "bf8a779f",
   "metadata": {},
   "source": [
    "#### Function to iterate multi pendulum dynamic system using RK4"
   ]
  },
  {
   "cell_type": "code",
   "execution_count": 24,
   "id": "a9c7a321",
   "metadata": {},
   "outputs": [],
   "source": [
    "def iterate_multipendulum(\n",
    "        angles: np.ndarray,\n",
    "        angular_vels: np.ndarray,\n",
    "        masses: np.ndarray,\n",
    "        lengths: np.ndarray,\n",
    "        num_iter = 1000,\n",
    "        step = 0.001,\n",
    "        gravity = 9.80665):\n",
    "    num_pendulums = len(angles)\n",
    "    Y_curr = np.concatenate((np.array(angles), np.array(angular_vels)))\n",
    "    for iteration in range(num_iter):\n",
    "        # k₁ ≈ Δt ⋅ F(Y_curr) - Derivative estimate at the beginning (t)\n",
    "        k1 = step * calculate_derivatives(Y_curr, masses, lengths, gravity)\n",
    "        # k₂ ≈ Δt ⋅ F(Y_curr + ½k₁) - Derivative estimate at midpoint (t + ½Δt) using k₁\n",
    "        k2 = step * calculate_derivatives(Y_curr + 0.5 * k1, masses, lengths, gravity)\n",
    "        # k₃ ≈ Δt ⋅ F(Y_curr + ½k₂) - Derivative estimate at 2nd midpoint (t + ½Δt) using k₂\n",
    "        k3 = step * calculate_derivatives(Y_curr + 0.5 * k2, masses, lengths, gravity)\n",
    "        # k₄ ≈ Δt ⋅ F(Y_curr + k₃) - Derivative estimate at the end (t + Δt) using k₃\n",
    "        k4 = step * calculate_derivatives(Y_curr + k3, masses, lengths, gravity)\n",
    "        # 4th Order Runge-Kutta (RK4) formula: Y(t+Δt) ≈ Y(t) + (k₁ + 2k₂ + 2k₃ + k₄) / 6\n",
    "        Y_curr = Y_curr + (k1 + 2.0 * k2 + 2.0 * k3 + k4) / 6.0\n",
    "        # Yield the pendulum step\n",
    "        yield iteration, Y_curr[:num_pendulums]"
   ]
  },
  {
   "cell_type": "markdown",
   "id": "11583c25",
   "metadata": {},
   "source": [
    "#### Function to calculate pendulum end positions from calculated angles"
   ]
  },
  {
   "cell_type": "code",
   "execution_count": 25,
   "id": "a6f92e4b",
   "metadata": {},
   "outputs": [],
   "source": [
    "def calculate_positions(center: tuple, angles: np.ndarray, lengths: np.ndarray):\n",
    "    num_pendulums = len(angles)\n",
    "    positions = np.zeros((num_pendulums + 1, 2))\n",
    "    positions[0, :] = center\n",
    "    for i in range(num_pendulums):\n",
    "        # dx = lᵢ * sin(θᵢ), dy = -lᵢ * cos(θᵢ)\n",
    "        positions[i + 1, 0] = positions[i, 0] + lengths[i] * np.sin(angles[i])\n",
    "        positions[i + 1, 1] = positions[i, 1] - lengths[i] * np.cos(angles[i])\n",
    "    return positions"
   ]
  },
  {
   "cell_type": "markdown",
   "id": "d9794b3c",
   "metadata": {},
   "source": [
    "#### Functions to render the multi pendulum frames"
   ]
  },
  {
   "cell_type": "code",
   "execution_count": 26,
   "id": "7ce72d6f",
   "metadata": {},
   "outputs": [],
   "source": [
    "def create_base_frame(figure_size=(6, 6), dpi=90, bg_color=(0, 0, 0, 255)):\n",
    "    width_px = int(figure_size[0] * dpi)\n",
    "    height_px = int(figure_size[1] * dpi)\n",
    "    initial_frame = np.full((height_px, width_px, 4), bg_color, dtype=np.uint8)\n",
    "    return initial_frame"
   ]
  },
  {
   "cell_type": "code",
   "execution_count": 27,
   "id": "573a09d6",
   "metadata": {},
   "outputs": [],
   "source": [
    "def alpha_composite_frames(foreground: np.ndarray, background: np.ndarray):\n",
    "    fg_rgb = foreground[..., :3].astype(np.float32) / 255.0\n",
    "    fg_a = foreground[..., 3:].astype(np.float32) / 255.0\n",
    "    bg_rgb = background[..., :3].astype(np.float32) / 255.0\n",
    "    bg_a = background[..., 3:].astype(np.float32) / 255.0\n",
    "    out_a = fg_a + bg_a * (1.0 - fg_a)\n",
    "    inv_out_a = np.divide(1.0, out_a, out=np.zeros_like(out_a), where=out_a > 1e-6)\n",
    "    out_rgb = (fg_rgb * fg_a + bg_rgb * bg_a * (1.0 - fg_a)) * inv_out_a\n",
    "    out_rgba = np.concatenate((out_rgb, out_a), axis=-1)\n",
    "    out_rgba = np.clip(out_rgba, 0, 1)\n",
    "    return (out_rgba * 255.0).astype(np.uint8)"
   ]
  },
  {
   "cell_type": "code",
   "execution_count": 28,
   "id": "be33a3e4",
   "metadata": {},
   "outputs": [],
   "source": [
    "def create_multipendulum_frame(\n",
    "        prev_frame: np.ndarray,\n",
    "        positions: np.ndarray,\n",
    "        prev_positions: np.ndarray,\n",
    "        iteration: int,\n",
    "        colors: list,\n",
    "        dpi = 90):\n",
    "    num_pendulums = positions.shape[0] - 1\n",
    "    height, width = prev_frame.shape[:2]\n",
    "    figure_size = (width / dpi, height / dpi)\n",
    "    plot_limit = 2.5\n",
    "    lim = (-plot_limit, plot_limit)\n",
    "    fig_temp1, ax_temp1 = plt.subplots(figsize=figure_size, dpi=dpi)\n",
    "    ax_temp1.set_xlim(lim); ax_temp1.set_ylim(lim)\n",
    "    ax_temp1.set_aspect('equal', adjustable='box'); ax_temp1.axis('off')\n",
    "    fig_temp1.patch.set_alpha(0.0); ax_temp1.patch.set_alpha(0.0)\n",
    "    if iteration > 0:\n",
    "        for i in range(2, num_pendulums + 1):\n",
    "            ax_temp1.plot(\n",
    "                [prev_positions[i, 0], positions[i, 0]],\n",
    "                [prev_positions[i, 1], positions[i, 1]],\n",
    "                color=colors[i], alpha=0.6,\n",
    "                linestyle='-', linewidth=1.5, \n",
    "                solid_capstyle='butt'\n",
    "            )\n",
    "    fig_temp1.canvas.draw()\n",
    "    buffer1 = fig_temp1.canvas.buffer_rgba()\n",
    "    new_tracers_layer = np.frombuffer(buffer1, dtype=np.uint8).reshape((height, width, 4))\n",
    "    plt.close(fig_temp1)\n",
    "    new_tracer_frame = alpha_composite_frames(foreground=new_tracers_layer, background=prev_frame)\n",
    "    fig_temp2, ax_temp2 = plt.subplots(figsize=figure_size, dpi=dpi)\n",
    "    ax_temp2.set_xlim(lim); ax_temp2.set_ylim(lim)\n",
    "    ax_temp2.set_aspect('equal', adjustable='box'); ax_temp2.axis('off')\n",
    "    fig_temp2.patch.set_alpha(0.0); ax_temp2.patch.set_alpha(0.0)\n",
    "    for i in range(num_pendulums):\n",
    "        ax_temp2.plot(\n",
    "            [positions[i, 0], positions[i+1, 0]], \n",
    "            [positions[i, 1], positions[i+1, 1]], \n",
    "            color=colors[i+1], linewidth=2.5\n",
    "        )\n",
    "    ax_temp2.plot(positions[0, 0], positions[0, 1], 'o', markersize=5, color=colors[0])\n",
    "    for i in range(1, num_pendulums + 1):\n",
    "        ax_temp2.plot(positions[i, 0], positions[i, 1], 'o', markersize=8, color=colors[i])\n",
    "    text = f'Iteration: {iteration}'\n",
    "    ax_temp2.text(0, 1.0, text, transform=ax_temp2.transAxes, fontsize=11, color='white')\n",
    "    fig_temp2.canvas.draw()\n",
    "    buffer2 = fig_temp2.canvas.buffer_rgba()\n",
    "    pendulum_layer = np.frombuffer(buffer2, dtype=np.uint8).reshape((height, width, 4))\n",
    "    plt.close(fig_temp2)\n",
    "    rendered_frame = alpha_composite_frames(foreground=pendulum_layer, background=new_tracer_frame)\n",
    "    return new_tracer_frame.copy(), rendered_frame.copy()"
   ]
  },
  {
   "cell_type": "markdown",
   "id": "3232feff",
   "metadata": {},
   "source": [
    "#### Iterate the double pendulum system and collect frames"
   ]
  },
  {
   "cell_type": "code",
   "execution_count": null,
   "id": "ae116603",
   "metadata": {},
   "outputs": [],
   "source": [
    "folder_path = \"gifs/pendulum/\"\n",
    "os.makedirs(folder_path, exist_ok=True)"
   ]
  },
  {
   "cell_type": "code",
   "execution_count": 31,
   "id": "d7608c44",
   "metadata": {},
   "outputs": [],
   "source": [
    "center = (0.0, 0.0)\n",
    "angles = np.array([np.pi / 2.1, np.pi / 1.9])\n",
    "angular_vels = np.array([0.0, 0.0])\n",
    "masses = np.array([1.0, 1.0])\n",
    "lengths = np.array([1.0, 1.0])\n",
    "colors = ['white', 'red', 'blue']\n",
    "num_iter = 200000"
   ]
  },
  {
   "cell_type": "code",
   "execution_count": 32,
   "id": "e381ad31",
   "metadata": {},
   "outputs": [],
   "source": [
    "positions = calculate_positions(center, angles, lengths)\n",
    "prev_frame = create_base_frame()\n",
    "prev_positions = positions\n",
    "prev_render_positions = prev_positions\n",
    "for it, angles_it in iterate_multipendulum(angles, angular_vels, masses, lengths, num_iter):\n",
    "    positions = calculate_positions(center, angles_it, lengths)\n",
    "    if it % 40 == 0:\n",
    "        print(f\"Double pendulum iteration: {it}\")\n",
    "        prev_frame, frame = create_multipendulum_frame(prev_frame, positions, prev_render_positions, it, colors)\n",
    "        prev_render_positions = positions\n",
    "        imageio.imwrite(os.path.join(folder_path, f\"DoublePendulum{it:08d}.png\"), frame)\n",
    "    prev_positions = positions\n",
    "clear_output()"
   ]
  },
  {
   "cell_type": "code",
   "execution_count": 33,
   "id": "a944d2ae",
   "metadata": {},
   "outputs": [],
   "source": [
    "double_pendulum_gif_filename = \"DoublePendulum.gif\"\n",
    "collect_saved_frames(folder_path, double_pendulum_gif_filename, fps=25)"
   ]
  },
  {
   "cell_type": "markdown",
   "id": "77274103",
   "metadata": {},
   "source": [
    "#### Visualize the double pendulum movement over time"
   ]
  },
  {
   "cell_type": "markdown",
   "id": "438db06d",
   "metadata": {},
   "source": [
    "![Double Pendulum](gifs/pendulum/DoublePendulum.gif)"
   ]
  },
  {
   "cell_type": "markdown",
   "id": "093d4e0f",
   "metadata": {},
   "source": [
    "#### Iterate double pendulum with slightly changed initial position and collect frames"
   ]
  },
  {
   "cell_type": "code",
   "execution_count": 35,
   "id": "6b8a43e0",
   "metadata": {},
   "outputs": [],
   "source": [
    "center = (0.0, 0.0)\n",
    "angles = np.array([np.pi / 2.1, np.pi / 1.9])\n",
    "angular_vels = np.array([0.1, 0.0])\n",
    "masses = np.array([1.0, 1.0])\n",
    "lengths = np.array([1.0, 1.0])\n",
    "colors = ['white', 'red', 'blue']\n",
    "num_iter = 200000"
   ]
  },
  {
   "cell_type": "code",
   "execution_count": 36,
   "id": "7c45a3d9",
   "metadata": {},
   "outputs": [],
   "source": [
    "positions = calculate_positions(center, angles, lengths)\n",
    "prev_frame = create_base_frame()\n",
    "prev_positions = positions\n",
    "prev_render_positions = prev_positions\n",
    "for it, angles_it in iterate_multipendulum(angles, angular_vels, masses, lengths, num_iter):\n",
    "    positions = calculate_positions(center, angles_it, lengths)\n",
    "    if it % 40 == 0:\n",
    "        print(f\"Double pendulum iteration: {it}\")\n",
    "        prev_frame, frame = create_multipendulum_frame(prev_frame, positions, prev_render_positions, it, colors)\n",
    "        prev_render_positions = positions\n",
    "        imageio.imwrite(os.path.join(folder_path, f\"DoublePendulum2{it:08d}.png\"), frame)\n",
    "    prev_positions = positions\n",
    "clear_output()"
   ]
  },
  {
   "cell_type": "code",
   "execution_count": 37,
   "id": "603b57a9",
   "metadata": {},
   "outputs": [],
   "source": [
    "double_pendulum2_gif_filename = \"DoublePendulum2.gif\"\n",
    "collect_saved_frames(folder_path, double_pendulum2_gif_filename, fps=25)"
   ]
  },
  {
   "cell_type": "markdown",
   "id": "9a97045a",
   "metadata": {},
   "source": [
    "#### Visualize the double pendulum with slightly different parameters over time"
   ]
  },
  {
   "cell_type": "markdown",
   "id": "5109b946",
   "metadata": {},
   "source": [
    "![Double Pendulum 2](gifs/pendulum/DoublePendulum2.gif)"
   ]
  },
  {
   "cell_type": "markdown",
   "id": "5d05369f",
   "metadata": {},
   "source": [
    "#### Iterate the multi pendulum system and collect frames"
   ]
  },
  {
   "cell_type": "code",
   "execution_count": 39,
   "id": "7a226af8",
   "metadata": {},
   "outputs": [],
   "source": [
    "center = (0.0, 0.0)\n",
    "angles = np.array([np.pi / 2.1, np.pi / 1.9005, np.pi / 1.8, np.pi / 1.7])\n",
    "angular_vels = np.array([0.0, 0.0, 0.0, 0.0])\n",
    "masses = np.array([0.5, 0.5, 0.5, 0.5])\n",
    "lengths = np.array([0.5, 0.5, 0.5, 0.5])\n",
    "colors = ['white', 'red', 'blue', 'green', 'purple']\n",
    "num_iter = 200000"
   ]
  },
  {
   "cell_type": "code",
   "execution_count": 40,
   "id": "e8318244",
   "metadata": {},
   "outputs": [],
   "source": [
    "positions = calculate_positions(center, angles, lengths)\n",
    "prev_frame = create_base_frame()\n",
    "prev_positions = positions\n",
    "prev_render_positions = prev_positions\n",
    "for it, angles_it in iterate_multipendulum(angles, angular_vels, masses, lengths, num_iter):\n",
    "    positions = calculate_positions(center, angles_it, lengths)\n",
    "    if it % 40 == 0:\n",
    "        print(f\"Multi pendulum iteration: {it}\")\n",
    "        prev_frame, frame = create_multipendulum_frame(prev_frame, positions, prev_render_positions, it, colors)\n",
    "        prev_render_positions = positions\n",
    "        imageio.imwrite(os.path.join(folder_path, f\"MultiPendulum{it:08d}.png\"), frame)\n",
    "    prev_positions = positions\n",
    "clear_output()"
   ]
  },
  {
   "cell_type": "code",
   "execution_count": 41,
   "id": "0d733849",
   "metadata": {},
   "outputs": [],
   "source": [
    "multi_pendulum_gif_filename = \"MultiPendulum.gif\"\n",
    "collect_saved_frames(folder_path, multi_pendulum_gif_filename, fps=25)"
   ]
  },
  {
   "cell_type": "markdown",
   "id": "b2d5cb14",
   "metadata": {},
   "source": [
    "#### Visualize the multi pendulum movement over time"
   ]
  },
  {
   "cell_type": "markdown",
   "id": "3558076e",
   "metadata": {},
   "source": [
    "![Multi Pendulum](gifs/pendulum/MultiPendulum.gif)"
   ]
  }
 ],
 "metadata": {
  "kernelspec": {
   "display_name": ".pyenv",
   "language": "python",
   "name": "python3"
  },
  "language_info": {
   "codemirror_mode": {
    "name": "ipython",
    "version": 3
   },
   "file_extension": ".py",
   "mimetype": "text/x-python",
   "name": "python",
   "nbconvert_exporter": "python",
   "pygments_lexer": "ipython3",
   "version": "3.13.2"
  }
 },
 "nbformat": 4,
 "nbformat_minor": 5
}
