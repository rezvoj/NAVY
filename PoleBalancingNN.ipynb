{
 "cells": [
  {
   "cell_type": "code",
   "execution_count": null,
   "id": "bb062c38",
   "metadata": {},
   "outputs": [],
   "source": [
    "import random, gymnasium, torch, os, glob, subprocess\n",
    "import numpy as np\n",
    "import matplotlib\n",
    "import matplotlib.pyplot as plt\n",
    "import imageio.v3 as imageio\n",
    "from IPython.display import display, clear_output, Image\n",
    "from render.CollectFrames import collect_saved_frames\n",
    "matplotlib.use('Agg')"
   ]
  },
  {
   "cell_type": "code",
   "execution_count": 18,
   "id": "37bc6723",
   "metadata": {},
   "outputs": [
    {
     "name": "stdout",
     "output_type": "stream",
     "text": [
      "Using device: cuda\n"
     ]
    }
   ],
   "source": [
    "DEVICE = torch.device(\"cuda\" if torch.cuda.is_available() else \"cpu\")\n",
    "print(f\"Using device: {DEVICE}\")\n",
    "random.seed(42)\n",
    "torch.manual_seed(42)\n",
    "if torch.cuda.is_available():\n",
    "    torch.cuda.manual_seed(42)"
   ]
  },
  {
   "cell_type": "markdown",
   "id": "3eb8c740",
   "metadata": {},
   "source": [
    "#### The specific neural network for the pole balancing problem"
   ]
  },
  {
   "cell_type": "code",
   "execution_count": 19,
   "id": "39099316",
   "metadata": {},
   "outputs": [],
   "source": [
    "class QNetwork(torch.nn.Module):\n",
    "    def __init__(self, num_obs: int, num_act: int):\n",
    "        super().__init__()\n",
    "        self.layer1 = torch.nn.Linear(num_obs, 64)\n",
    "        self.layer2 = torch.nn.Linear(64, 192)\n",
    "        self.layer3 = torch.nn.Linear(192, 128)\n",
    "        self.layer4 = torch.nn.Linear(128, 64)\n",
    "        self.layer5 = torch.nn.Linear(64, num_act)\n",
    "    \n",
    "    def forward(self, x):\n",
    "        x = x.to(DEVICE)\n",
    "        x = torch.nn.functional.leaky_relu(self.layer1(x))\n",
    "        x = torch.nn.functional.leaky_relu(self.layer2(x))\n",
    "        x = torch.nn.functional.leaky_relu(self.layer3(x))\n",
    "        x = torch.nn.functional.leaky_relu(self.layer4(x))\n",
    "        return self.layer5(x)"
   ]
  },
  {
   "cell_type": "markdown",
   "id": "b5e5aa64",
   "metadata": {},
   "source": [
    "#### Class to train the neural network using Q-learning supervisor"
   ]
  },
  {
   "cell_type": "code",
   "execution_count": 20,
   "id": "6cf7107a",
   "metadata": {},
   "outputs": [],
   "source": [
    "class QTrainingSession:\n",
    "    def __init__(self, end_score=500.0, lrn_rate=0.001):\n",
    "        self.env = gymnasium.make(\"CartPole-v1\", render_mode=\"rgb_array\")\n",
    "        self.num_actions = self.env.action_space.n\n",
    "        self.num_obs = len(self.env.reset()[0])\n",
    "        self.network = QNetwork(self.num_obs, self.num_actions).to(DEVICE)\n",
    "        self.optimizer = torch.optim.AdamW(self.network.parameters(), lr=lrn_rate, amsgrad=True)\n",
    "        self.loss_function = torch.nn.MSELoss()\n",
    "        self.end_score = end_score\n",
    "\n",
    "    def _select_action(self, predicted_values: torch.Tensor, eps_threshold: float):\n",
    "        if random.random() >= eps_threshold:\n",
    "            return predicted_values.max(1).indices.item()\n",
    "        else:\n",
    "            return self.env.action_space.sample()\n",
    "\n",
    "    def _make_state(self, obs: tuple):\n",
    "        return torch.tensor(obs, dtype=torch.float32, device=DEVICE).unsqueeze(0)\n",
    "\n",
    "    def train(\n",
    "            self, \n",
    "            num_episodes = 1000,\n",
    "            episode_render_mod = 10,\n",
    "            num_perfect_to_end = 5,\n",
    "            discount_factor = 0.99,\n",
    "            eps = 0.1):\n",
    "        queue = [0] * num_perfect_to_end\n",
    "        for episode in range(num_episodes):\n",
    "            current_state = self._make_state(self.env.reset()[0])\n",
    "            total_reward, done = 0, False\n",
    "            yield self.env.render(), episode, total_reward\n",
    "            while not done:\n",
    "                # Predict Q-values for current state\n",
    "                predicted_values = self.network(current_state)\n",
    "                # Choose action (Epsilon-Static approach)\n",
    "                action_idx = self._select_action(predicted_values, eps)\n",
    "                # Execute action in the environment and observe result\n",
    "                next_obs, reward, terminated, truncated, _ = self.env.step(action_idx)\n",
    "                total_reward += reward\n",
    "                gen_frame = episode % episode_render_mod == 0\n",
    "                frame = self.env.render() if gen_frame else None\n",
    "                yield frame, episode, total_reward\n",
    "                done = terminated or truncated\n",
    "                next_state = None if done else self._make_state(next_obs)\n",
    "                # Get max Q-value for the next state\n",
    "                max_qvalue_next = 0.0\n",
    "                if not done and next_state is not None:\n",
    "                    with torch.no_grad():\n",
    "                        max_qvalue_next = self.network(next_state).max(1).values.item()\n",
    "                # Calculate the final target qvalue using the Bellman equation\n",
    "                qvalue = reward + (discount_factor * max_qvalue_next)\n",
    "                # Construct the target vector for backpropagation\n",
    "                target_qvalue_vector = predicted_values.clone().detach()\n",
    "                target_qvalue_vector[0, action_idx] = qvalue\n",
    "                # Calculate loss and backpropagate it\n",
    "                loss = self.loss_function(predicted_values, target_qvalue_vector)\n",
    "                self.optimizer.zero_grad()\n",
    "                loss.backward()\n",
    "                self.optimizer.step()\n",
    "                # Update the current state to the next one\n",
    "                current_state = next_state\n",
    "            queue = queue[1:] + [total_reward]\n",
    "            if sum(queue) / num_perfect_to_end >= self.end_score:\n",
    "                break\n",
    "\n",
    "    def predict(self, num_predictions=10, prediction_render_mod=1):\n",
    "        for prediction in range(num_predictions):\n",
    "            current_state = self._make_state(self.env.reset()[0])\n",
    "            total_reward, done = 0, False\n",
    "            yield self.env.render(), prediction, total_reward\n",
    "            while not done:\n",
    "                # Predict Q-values for current state\n",
    "                with torch.no_grad():\n",
    "                    predicted_values = self.network(current_state)\n",
    "                # Choose action (Epsilon-Static approach)\n",
    "                action_idx = self._select_action(predicted_values, 0.0)\n",
    "                # Execute action in the environment and observe result\n",
    "                next_obs, reward, terminated, truncated, _ = self.env.step(action_idx)\n",
    "                total_reward += reward\n",
    "                gen_frame = prediction % prediction_render_mod == 0\n",
    "                frame = self.env.render() if gen_frame else None\n",
    "                yield frame, prediction, total_reward\n",
    "                done = terminated or truncated\n",
    "                next_state = None if done else self._make_state(next_obs)\n",
    "                # Update the current state to the next one\n",
    "                current_state = next_state"
   ]
  },
  {
   "cell_type": "markdown",
   "id": "5f70c77d",
   "metadata": {},
   "source": [
    "#### Function to put metadata text into the gymnasium environment frame"
   ]
  },
  {
   "cell_type": "code",
   "execution_count": 21,
   "id": "798d8119",
   "metadata": {},
   "outputs": [],
   "source": [
    "def add_text_to_frame(array: np.ndarray, title: str, episode: int, reward: int, dpi=75):\n",
    "    height, width, _ = array.shape\n",
    "    fig = plt.figure(figsize=(width / dpi, height / dpi), dpi=dpi, frameon=False)\n",
    "    axes = fig.add_axes([0, 0, 1, 1])\n",
    "    axes.axis('off')\n",
    "    axes.imshow(array, aspect='auto', interpolation='nearest')\n",
    "    text = f\"{title}: {episode}\\nReward: {reward:.0f}\"\n",
    "    axes.text(0.05, 0.95, text, color='black', fontsize=13, ha='left', va='top', transform=axes.transAxes)\n",
    "    fig.canvas.draw()\n",
    "    frame_with_text = np.array(fig.canvas.buffer_rgba())[:, :, :3]\n",
    "    plt.close(fig)\n",
    "    return frame_with_text"
   ]
  },
  {
   "cell_type": "markdown",
   "id": "dfd4cd73",
   "metadata": {},
   "source": [
    "#### Train the neural network using Q-learning supervisor and collect frames"
   ]
  },
  {
   "cell_type": "code",
   "execution_count": null,
   "id": "e8b8dfd7",
   "metadata": {},
   "outputs": [],
   "source": [
    "folder_path = \"gifs/balancing/\"\n",
    "os.makedirs(folder_path, exist_ok=True)"
   ]
  },
  {
   "cell_type": "code",
   "execution_count": 24,
   "id": "04a911de",
   "metadata": {},
   "outputs": [],
   "source": [
    "session = QTrainingSession(end_score=400)\n",
    "frames_chunk = 25\n",
    "num_episodes = 1000\n",
    "episode_rewards = []"
   ]
  },
  {
   "cell_type": "code",
   "execution_count": 25,
   "id": "dc5d88c1",
   "metadata": {},
   "outputs": [
    {
     "name": "stdout",
     "output_type": "stream",
     "text": [
      "Number of trained episodes: 515\n"
     ]
    }
   ],
   "source": [
    "prev_episode, prev_reward = 0, 0\n",
    "for idx, (frame, episode, total_reward) in enumerate(session.train(num_episodes, frames_chunk, 20)):        \n",
    "    if episode != prev_episode:\n",
    "        print(f\"Episode: {episode - 1} ({prev_reward:.0f})\")\n",
    "        episode_rewards.append(prev_reward)\n",
    "        prev_episode = episode\n",
    "    prev_reward = total_reward\n",
    "    if episode % frames_chunk == 0:\n",
    "        frame_with_text = add_text_to_frame(frame, \"Episode\", episode, total_reward)\n",
    "        imageio.imwrite(os.path.join(folder_path, f\"PoleBalancingTrain{idx:08d}.png\"), frame_with_text)\n",
    "print(f\"Episode: {episode} ({prev_reward})\")\n",
    "episode_rewards.append(prev_reward)\n",
    "clear_output()\n",
    "print(f\"Number of trained episodes: {episode}\")"
   ]
  },
  {
   "cell_type": "code",
   "execution_count": 26,
   "id": "721a4d1d",
   "metadata": {},
   "outputs": [],
   "source": [
    "train_gif_filename = \"PoleBalancingTrain.gif\"\n",
    "collect_saved_frames(folder_path, train_gif_filename)"
   ]
  },
  {
   "cell_type": "markdown",
   "id": "3209f2fc",
   "metadata": {},
   "source": [
    "#### Visualize the learning process"
   ]
  },
  {
   "cell_type": "markdown",
   "id": "a0bad3d6",
   "metadata": {},
   "source": [
    "![Pole Balancing Train](gifs/balancing/PoleBalancingTrain.gif)"
   ]
  },
  {
   "cell_type": "markdown",
   "id": "3b96ed10",
   "metadata": {},
   "source": [
    "#### Visualize the rewards over time"
   ]
  },
  {
   "cell_type": "code",
   "execution_count": 28,
   "id": "eb56f2bd",
   "metadata": {},
   "outputs": [],
   "source": [
    "rewards_chunk = 10\n",
    "averaged_rewards = [\n",
    "    sum(episode_rewards[i * rewards_chunk : i * rewards_chunk + rewards_chunk]) / rewards_chunk \n",
    "    for i in range(len(episode_rewards) // rewards_chunk)\n",
    "]"
   ]
  },
  {
   "cell_type": "code",
   "execution_count": 29,
   "id": "e461f0d1",
   "metadata": {},
   "outputs": [
    {
     "data": {
      "image/png": "[encoded data removed]",
      "text/plain": [
       "<Figure size 640x480 with 1 Axes>"
      ]
     },
     "metadata": {},
     "output_type": "display_data"
    }
   ],
   "source": [
    "%matplotlib inline\n",
    "plt.plot(averaged_rewards)\n",
    "plt.xlabel('Iteration chunk')\n",
    "plt.ylabel('Average total iteration chunk reward')\n",
    "plt.title('Q-learning training rewards per iteration chunk')\n",
    "plt.show()"
   ]
  },
  {
   "cell_type": "markdown",
   "id": "049629f7",
   "metadata": {},
   "source": [
    "#### Test the neural network and collect frames"
   ]
  },
  {
   "cell_type": "code",
   "execution_count": 35,
   "id": "ea034683",
   "metadata": {},
   "outputs": [],
   "source": [
    "test_rewards = []\n",
    "prev_test, prev_reward = 0, 0\n",
    "for idx, (frame, prediction, total_reward) in enumerate(session.predict(num_predictions=5)):\n",
    "    if prediction != prev_test:\n",
    "        print(f\"Prediction: {prediction - 1} ({prev_reward:.0f})\")\n",
    "        test_rewards.append(prev_reward)\n",
    "        prev_test = prediction\n",
    "    prev_reward = total_reward\n",
    "    frame_with_text = add_text_to_frame(frame, \"Test\", prediction, total_reward)\n",
    "    imageio.imwrite(os.path.join(folder_path, f\"PoleBalancingTest{idx:08d}.png\"), frame_with_text)\n",
    "print(f\"Prediction: {prediction} ({prev_reward})\")\n",
    "test_rewards.append(prev_reward)\n",
    "clear_output()"
   ]
  },
  {
   "cell_type": "code",
   "execution_count": 36,
   "id": "e2d2c0cd",
   "metadata": {},
   "outputs": [],
   "source": [
    "test_gif_filename = \"PoleBalancingTest.gif\"\n",
    "collect_saved_frames(folder_path, test_gif_filename)"
   ]
  },
  {
   "cell_type": "markdown",
   "id": "7adb1f2e",
   "metadata": {},
   "source": [
    "#### Visualize the tests"
   ]
  },
  {
   "cell_type": "markdown",
   "id": "eed764ff",
   "metadata": {},
   "source": [
    "![Pole Balancing Test](gifs/balancing/PoleBalancingTest.gif)"
   ]
  },
  {
   "cell_type": "markdown",
   "id": "3ddda820",
   "metadata": {},
   "source": [
    "#### Visualize the test results fluctuation"
   ]
  },
  {
   "cell_type": "code",
   "execution_count": 38,
   "id": "64dcabc0",
   "metadata": {},
   "outputs": [
    {
     "data": {
      "image/png": "[encoded data removed]",
      "text/plain": [
       "<Figure size 640x480 with 1 Axes>"
      ]
     },
     "metadata": {},
     "output_type": "display_data"
    }
   ],
   "source": [
    "%matplotlib inline\n",
    "x_positions = range(len(test_rewards))\n",
    "plt.bar(x_positions, test_rewards)\n",
    "plt.xlabel('Test number')\n",
    "plt.ylabel('Total reward')\n",
    "plt.title('Q-learning testing rewards fluctuation')\n",
    "plt.xticks(x_positions)\n",
    "plt.show()"
   ]
  }
 ],
 "metadata": {
  "kernelspec": {
   "display_name": ".pyenv",
   "language": "python",
   "name": "python3"
  },
  "language_info": {
   "codemirror_mode": {
    "name": "ipython",
    "version": 3
   },
   "file_extension": ".py",
   "mimetype": "text/x-python",
   "name": "python",
   "nbconvert_exporter": "python",
   "pygments_lexer": "ipython3",
   "version": "3.13.2"
  }
 },
 "nbformat": 4,
 "nbformat_minor": 5
}
